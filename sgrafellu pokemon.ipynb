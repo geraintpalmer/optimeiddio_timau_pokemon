{
 "cells": [
  {
   "cell_type": "code",
   "execution_count": 1,
   "metadata": {},
   "outputs": [],
   "source": [
    "import requests\n",
    "from bs4 import BeautifulSoup\n",
    "import tqdm"
   ]
  },
  {
   "cell_type": "code",
   "execution_count": 2,
   "metadata": {},
   "outputs": [],
   "source": [
    "list_of_types = [ 'Normal', 'Fire', 'Water', 'Electric', 'Grass', 'Ice', 'Fighting', 'Poison', 'Ground', 'Flying', 'Psychic', 'Bug', 'Rock', 'Ghost', 'Dragon', 'Dark', 'Steel', 'Fairy']\n",
    "possible_pkmn = [str(r).zfill(3) for r in range(1, 899)]\n",
    "stats = ['HP', 'Attack', 'Defense', 'Sp Attack', 'Sp Defense', 'Speed']\n",
    "alolan_forms = ['/pokedex-swsh/rattata/', '/pokedex-swsh/raticate/', '/pokedex-swsh/raichu/', '/pokedex-swsh/sandshrew/', '/pokedex-swsh/sandslash/', '/pokedex-swsh/vulpix/', '/pokedex-swsh/ninetales/', '/pokedex-swsh/diglett/', '/pokedex-swsh/dugtrio/', '/pokedex-swsh/meowth/', '/pokedex-swsh/persian/', '/pokedex-swsh/geodude/', '/pokedex-swsh/graveler/', '/pokedex-swsh/golem/', '/pokedex-swsh/gimer/', '/pokedex-swsh/muk/', '/pokedex-swsh/exeggutor/', '/pokedex-swsh/marowak/']\n",
    "galarian_forms = ['/pokedex-swsh/meowth/', '/pokedex-swsh/ponyta/', '/pokedex-swsh/rapidash/', \"/pokedex-swsh/farfetch'd/\", '/pokedex-swsh/weezing/', '/pokedex-swsh/mr.mime/', '/pokedex-swsh/corsola/', '/pokedex-swsh/zigzagoon/', '/pokedex-swsh/linoone/', '/pokedex-swsh/darumaka/', '/pokedex-swsh/darmanitan/', '/pokedex-swsh/yamask/', '/pokedex-swsh/stunfisk/', '/pokedex-swsh/slowpoke/', '/pokedex-swsh/slowbro/', '/pokedex-swsh/articuno/', '/pokedex-swsh/zapdos/', '/pokedex-swsh/moltres/', '/pokedex-swsh/slowking/']"
   ]
  },
  {
   "cell_type": "code",
   "execution_count": 3,
   "metadata": {},
   "outputs": [],
   "source": [
    "to_do_manually = [\n",
    "    '/pokedex-swsh/urshifu/',\n",
    "    '/pokedex-swsh/meowth/',\n",
    "    '/pokedex-swsh/pikachu',\n",
    "]"
   ]
  },
  {
   "cell_type": "code",
   "execution_count": 4,
   "metadata": {},
   "outputs": [],
   "source": [
    "gender_diffs = [\n",
    "    'venusaur', 'butterfree', 'rattata', 'raticate', 'pikachu', 'raichu', 'zubat', 'golbat', 'gloom', 'kadabra',\n",
    "    'alakazam', 'doduo', 'dodrio', 'hypno', 'rhyhorn', 'rhydon', 'goldeen', 'seaking', 'scyther', 'magikarp',\n",
    "    'gyarados', 'eevee', 'meganium', 'ledyba', 'ledian', 'xatu', 'sudowoodo', 'politoad', 'aipom', 'wooper',\n",
    "    'quagsire', 'murkrow', 'wobbuffet', 'girafarig', 'gligar', 'steelix', 'scizor', 'heracross', 'sneasel',\n",
    "    'ursaring', 'piloswine', 'octillery', 'houndoom', 'donphan', 'torchic', 'combusken', 'blaziken', 'beautifly',\n",
    "    'dustox', 'ludicolo', 'nuzleaf', 'shiftry', 'meditite', 'medicham', 'roselia', 'gulpin', 'swalot', 'numel',\n",
    "    'camerupt', 'cacturne', 'milotic', 'relicanth', 'starly', 'staravia', 'staraptor', 'bidoof', 'bibarel',\n",
    "    'kricketot', 'kricketune', 'shinx', 'luxio', 'luxray', 'roserade', 'combee', 'pachirisu', 'buizel', 'floatzel',\n",
    "    'ambipom', 'gible', 'gabite', 'garchomp', 'hippopotas', 'hippowdon', 'croagunk', 'toxicroak', 'finneon',\n",
    "    'lumineon', 'snowver', 'abomasnow', 'weavile', 'rhyperior', 'tangrowth', 'mamoswine', 'unfezant', 'frillish',\n",
    "    'jellicent', 'pyroar', 'meowstic', 'indeedee'\n",
    "]\n",
    "gender_diffs = ['/pokedex-swsh/' + pkmn + '/' for pkmn in gender_diffs]"
   ]
  },
  {
   "cell_type": "code",
   "execution_count": 5,
   "metadata": {},
   "outputs": [],
   "source": [
    "legendaries = [\n",
    "    'articuno',  'zapdos',     'moltres',\n",
    "    'raikou',    'entei',      'suicune',\n",
    "    'regice',    'regirock',   'registeel',\n",
    "    'latios',    'latias',\n",
    "    'uxie',      'mesprit',   'azelf',\n",
    "    'heatran',   'regigigas',  'cresselia',\n",
    "    'cobalion',  'terrakion',  'virizion',\n",
    "    'tornadus',  'thundurus' '  landorus',\n",
    "    'type:null', 'silvally',\n",
    "    'tapukoko',  'tapulele',   'tapubulu',  'tapufini',\n",
    "    'nihilego',  'buzzwole',   'pheromosa'\n",
    "    'xurkitree', 'celesteela', 'kartana',   'guzzlord'\n",
    "    'poipole',   'naganadel',  'stakataka', 'blacephalon'\n",
    "    'kubfu',     'urshifu',    'regieleki', 'regidrago',\n",
    "    'glastrier', 'spectrier',\n",
    "    'mewtwo',    'lugia',      'ho-oh',\n",
    "    'kyogre',    'groudon',    'rayquaza',\n",
    "    'dialga',    'palkia',     'giratina',\n",
    "    'reshiram',  'zekrom',     'kyurem',\n",
    "    'xerneas',   'yveltal',    'zygarde',\n",
    "    'cosmog',    'cosmoem',    'solgaleo',  'lunala', 'necrozma',\n",
    "    'zacian',    'zamazenta',  'eturnatus', 'calyrex'\n",
    "]\n",
    "legendaries = ['/pokedex-swsh/' + pkmn + '/' for pkmn in legendaries]"
   ]
  },
  {
   "cell_type": "code",
   "execution_count": 6,
   "metadata": {},
   "outputs": [],
   "source": [
    "mythicals = [\n",
    "    'mew',     'celebi',\n",
    "    'jirachi',  'deoxys'\n",
    "    'phione',   'manaphy',\n",
    "    'darkrai',  'shaymin',   'arceus',\n",
    "    'victini',  'keldeo',    'meloetta', 'genesect',\n",
    "    'diancie',  'hoopa',     'volcanion',\n",
    "    'magearna', 'marshadow', 'zeraora',  'meltan', 'melmetal',\n",
    "    'zarude'\n",
    "]\n",
    "mythicals = ['/pokedex-swsh/' + pkmn + '/' for pkmn in mythicals]"
   ]
  },
  {
   "cell_type": "code",
   "execution_count": 7,
   "metadata": {},
   "outputs": [],
   "source": [
    "prefix = 'https://www.serebii.net'\n",
    "page = requests.get(prefix + '/pokedex-swsh/')"
   ]
  },
  {
   "cell_type": "code",
   "execution_count": 8,
   "metadata": {},
   "outputs": [],
   "source": [
    "soup = BeautifulSoup(page.content)\n",
    "all_pkmn_links = [row['value'] for row in soup.findAll('option') if row.text[:3] in possible_pkmn]\n",
    "all_pkmn_links = list(set(all_pkmn_links))"
   ]
  },
  {
   "cell_type": "code",
   "execution_count": 9,
   "metadata": {},
   "outputs": [],
   "source": [
    "page = requests.get('https://www.serebii.net/swordshield/gigantamax.shtml')\n",
    "soup = BeautifulSoup(page.content)\n",
    "gigantamex = [soup.findAll('td', {'class': 'fooinfo'})[i].find('a').get('href') + '/' for i in range(198) if i % 6 == 2]"
   ]
  },
  {
   "cell_type": "code",
   "execution_count": 10,
   "metadata": {},
   "outputs": [],
   "source": [
    "class Pokemon:\n",
    "    def __init__(self, name, number, weaknesses, stats, types, legendary, mythical):\n",
    "        self.name = name\n",
    "        self.number = number\n",
    "        self.weaknesses = weaknesses\n",
    "        self.hp = stats[0]\n",
    "        self.attack = stats[1]\n",
    "        self.defense = stats[2]\n",
    "        self.special_attack = stats[3]\n",
    "        self.special_defense = stats[4]\n",
    "        self.speed = stats[5]\n",
    "        self.types = types\n",
    "        self.legendary = legendary\n",
    "        self.mythical = mythical"
   ]
  },
  {
   "cell_type": "code",
   "execution_count": 11,
   "metadata": {},
   "outputs": [],
   "source": [
    "def get_all_info_original(suffix, legendary, mythical, gmax=False, gender=False):\n",
    "    shift = 0\n",
    "    checkshift = 0\n",
    "    if gender:\n",
    "        checkshift = 1\n",
    "    if gmax:\n",
    "        shift = 1\n",
    "    page = requests.get(prefix + suffix)\n",
    "    soup = BeautifulSoup(page.content)\n",
    "    if ('Sword' in soup.findAll('table', {'class': 'dextable'})[6 + checkshift].text) or ('Shield' in soup.findAll('table', {'class': 'dextable'})[6 + checkshift].text):\n",
    "        name = soup.findAll('table', {'class': 'dextable'})[1].findAll('td')[5].text\n",
    "        number = int(soup.findAll('table', {'class': 'dextable'})[1].findAll('td')[17].text[1:])\n",
    "        weaknesses = [float(row.text[1:]) for row in soup.findAll('table', {'class': 'dextable'})[3].findAll('tr')[-1].findAll('td')]\n",
    "        stats = [int(stat.text) for stat in soup.findAll('table', {'class': 'dextable'})[-(1 + shift)].findAll('td', {'class': 'fooinfo'})[1:7]]\n",
    "        types = [row['href'][14:-6] for row in soup.findAll('table', {'class': 'dextable'})[1].findAll('td', {'class': 'cen'})[0].findAll('a')]\n",
    "        return [Pokemon(name, number, weaknesses, stats, types, legendary, mythical)]\n",
    "    return []"
   ]
  },
  {
   "cell_type": "code",
   "execution_count": 12,
   "metadata": {},
   "outputs": [],
   "source": [
    "def get_all_info_variant(suffix, variation, legendary, mythical, gender=False):\n",
    "    page = requests.get(prefix + suffix)\n",
    "    soup = BeautifulSoup(page.content)\n",
    "    checkshift = 0\n",
    "    if gender:\n",
    "        checkshift = 1\n",
    "    if ('Sword' in soup.findAll('table', {'class': 'dextable'})[7+checkshift].text) or ('Shield' in soup.findAll('table', {'class': 'dextable'})[7+checkshift].text):\n",
    "        name = soup.findAll('table', {'class': 'dextable'})[1].findAll('td')[5].text\n",
    "        variant_name = variation + ' ' + name\n",
    "        number = int(soup.findAll('table', {'class': 'dextable'})[1].findAll('td')[17].text[1:])\n",
    "        weaknesses = [float(row.text[1:]) for row in soup.findAll('table', {'class': 'dextable'})[3].findAll('tr')[-3].findAll('td')]\n",
    "        variant_weaknesses = [float(row.text[1:]) for row in soup.findAll('table', {'class': 'dextable'})[3].findAll('tr')[-1].findAll('td')]\n",
    "        try:\n",
    "            stats = [int(stat.text) for stat in soup.findAll('table', {'class': 'dextable'})[-2].findAll('td', {'class': 'fooinfo'})[1:7]]\n",
    "        except:\n",
    "            stats = [int(stat.text) for stat in soup.findAll('table', {'class': 'dextable'})[-1].findAll('td', {'class': 'fooinfo'})[1:7]]\n",
    "        variant_stats = [int(stat.text) for stat in soup.findAll('table', {'class': 'dextable'})[-1].findAll('td', {'class': 'fooinfo'})[1:7]]\n",
    "        types = [row['href'][14:-6] for row in soup.findAll('table', {'class': 'dextable'})[1].findAll('td', {'class': 'cen'})[0].findAll('td')[1].findAll('a')]\n",
    "        variant_types = [row['href'][14:-6] for row in soup.findAll('table', {'class': 'dextable'})[1].findAll('td', {'class': 'cen'})[0].findAll('td')[3].findAll('a')]\n",
    "        return [Pokemon(name, number, weaknesses, stats, types, legendary, mythical), Pokemon(variant_name, number, variant_weaknesses, variant_stats, variant_types, legendary, mythical)]\n",
    "    return []"
   ]
  },
  {
   "cell_type": "code",
   "execution_count": 13,
   "metadata": {},
   "outputs": [
    {
     "data": {
      "application/vnd.jupyter.widget-view+json": {
       "model_id": "ba6051d3559648b5b55b40349748d791",
       "version_major": 2,
       "version_minor": 0
      },
      "text/plain": [
       "HBox(children=(IntProgress(value=0, max=835), HTML(value='')))"
      ]
     },
     "metadata": {},
     "output_type": "display_data"
    },
    {
     "name": "stdout",
     "output_type": "stream",
     "text": [
      "\n"
     ]
    }
   ],
   "source": [
    "all_pokemon = []\n",
    "for suffix in tqdm.tqdm_notebook(all_pkmn_links):\n",
    "    try:\n",
    "        if suffix not in to_do_manually:\n",
    "            gender = False\n",
    "            gmax = False\n",
    "            legendary = False\n",
    "            mythical = False\n",
    "            if suffix in gigantamex:\n",
    "                gmax = True\n",
    "            if suffix in gender_diffs:\n",
    "                gender=True\n",
    "            if suffix in legendaries:\n",
    "                legendary = True\n",
    "            if suffix in mythicals:\n",
    "                mythical = True\n",
    "            if (suffix not in alolan_forms) and (suffix not in galarian_forms):\n",
    "                all_pokemon += get_all_info_original(suffix, legendary, mythical, gmax=gmax, gender=gender)\n",
    "            if suffix in alolan_forms:\n",
    "                all_pokemon += get_all_info_variant(suffix, 'Alolan', legendary, mythical, gender=gender)\n",
    "            if suffix in galarian_forms:\n",
    "                all_pokemon += get_all_info_variant(suffix, 'Galarian', legendary, mythical, gender=gender)\n",
    "    except:\n",
    "        print(suffix)"
   ]
  },
  {
   "cell_type": "code",
   "execution_count": 14,
   "metadata": {},
   "outputs": [],
   "source": [
    "all_pokemon += [\n",
    "    Pokemon(name='Urshifu (Single Strike Style)', number=892, weaknesses=[1, 1, 1, 1, 1, 1, 2, 1, 1, 2, 0, 1, 0.5, 0.5, 1, 0.25, 1, 1], stats=[100, 130, 100, 63, 60, 97], types=['fighting', 'dark'], legendary=True, mythical=False),\n",
    "    Pokemon(name='Urshifu (Rapid Strike Style)', number=892, weaknesses=[1, 0.5, 0.5, 2, 2, 0.5, 1, 1, 1, 2, 2, 0.5, 0.5, 1, 1, 0.5, 0.5, 2], stats=[100, 130, 100, 63, 60, 97], types=['fighting', 'water'], legendary=True, mythical=False),\n",
    "    Pokemon(name='Meowth', number=52, weaknesses=[1, 1, 1, 1, 1, 1, 2, 1, 1, 1, 1, 1, 1, 1, 0, 1, 1, 1, 1], stats=[40, 45, 35, 40, 40, 90], types=['normal'], legendary=False, mythical=False),\n",
    "    Pokemon(name='Alolan Meowth', number=52, weaknesses=[1, 1, 1, 1, 1, 1, 2, 1, 1, 1, 0, 2, 1, 0.5, 1, 0.5, 1, 2], stats=[40, 35, 35, 50, 40, 90], types=['dark'], legendary=False, mythical=False),\n",
    "    Pokemon(name='Galarian Meowth', number=52, weaknesses=[0.5, 2, 1, 1, 0.5, 0.5, 2, 0, 2, 0.5, 0.5, 0.5, 0.5, 1, 0.5, 1, 0.5, 0.5], stats=[50, 65, 55, 40, 40, 40], types=['steel'], legendary=False, mythical=False),\n",
    "    Pokemon(name='Pikachu', number=25, weaknesses=[1, 1, 1, 0.5, 1, 1, 1, 1, 2, 0.5, 1, 1, 1, 1, 1, 1, 0.5, 1], stats=[35, 55, 40, 50, 50, 90], types=['electric'], legendary=False, mythical=False),\n",
    "]"
   ]
  },
  {
   "cell_type": "code",
   "execution_count": 15,
   "metadata": {},
   "outputs": [
    {
     "data": {
      "text/plain": [
       "657"
      ]
     },
     "execution_count": 15,
     "metadata": {},
     "output_type": "execute_result"
    }
   ],
   "source": [
    "len(all_pokemon)"
   ]
  },
  {
   "cell_type": "code",
   "execution_count": 16,
   "metadata": {},
   "outputs": [],
   "source": [
    "import pandas as pd\n",
    "data_dict = {\n",
    "    'Name': [p.name for p in all_pokemon],\n",
    "    'Number': [p.number for p in all_pokemon],\n",
    "    'HP': [p.hp for p in all_pokemon],\n",
    "    'Attack': [p.attack for p in all_pokemon],\n",
    "    'SpAttack': [p.special_attack for p in all_pokemon],\n",
    "    'Defense': [p.defense for p in all_pokemon],\n",
    "    'SpDefense': [p.special_defense for p in all_pokemon],\n",
    "    'Speed': [p.speed for p in all_pokemon],\n",
    "    'Legendary': [1 if p.legendary else 0 for p in all_pokemon],\n",
    "    'Mythical': [1 if p.mythical else 0 for p in all_pokemon],\n",
    "    'Type1': [p.types[0].capitalize() for p in all_pokemon],\n",
    "    'Type2': [p.types[1].capitalize() if len(p.types) == 2 else '-' for p in all_pokemon]\n",
    "}\n",
    "for i, t in enumerate(list_of_types):\n",
    "    data_dict[t] = [p.weaknesses[i] for p in all_pokemon]\n",
    "data = pd.DataFrame(data_dict)\n",
    "data.sort_values('Number', inplace=True)"
   ]
  },
  {
   "cell_type": "code",
   "execution_count": 17,
   "metadata": {},
   "outputs": [],
   "source": [
    "data.to_csv('pokemon_swsh_data.csv', index=False)"
   ]
  },
  {
   "cell_type": "code",
   "execution_count": 18,
   "metadata": {},
   "outputs": [
    {
     "data": {
      "text/plain": [
       "[]"
      ]
     },
     "execution_count": 18,
     "metadata": {},
     "output_type": "execute_result"
    }
   ],
   "source": [
    "get_all_info_original('/pokedex-swsh/raichu/', legendary=False, mythical=False)"
   ]
  },
  {
   "cell_type": "code",
   "execution_count": 19,
   "metadata": {},
   "outputs": [],
   "source": [
    "page = requests.get(prefix + '/pokedex-swsh/rattata/')\n",
    "soup = BeautifulSoup(page.content)"
   ]
  },
  {
   "cell_type": "code",
   "execution_count": 20,
   "metadata": {},
   "outputs": [
    {
     "data": {
      "text/plain": [
       "'\\n\\nGender Differences\\n\\n\\n\\nMaleFemale\\n\\n\\n\\n\\n'"
      ]
     },
     "execution_count": 20,
     "metadata": {},
     "output_type": "execute_result"
    }
   ],
   "source": [
    "soup.findAll('table', {'class': 'dextable'})[6].text"
   ]
  },
  {
   "cell_type": "code",
   "execution_count": null,
   "metadata": {},
   "outputs": [],
   "source": []
  }
 ],
 "metadata": {
  "kernelspec": {
   "display_name": "Python 3",
   "language": "python",
   "name": "python3"
  },
  "language_info": {
   "codemirror_mode": {
    "name": "ipython",
    "version": 3
   },
   "file_extension": ".py",
   "mimetype": "text/x-python",
   "name": "python",
   "nbconvert_exporter": "python",
   "pygments_lexer": "ipython3",
   "version": "3.7.3"
  }
 },
 "nbformat": 4,
 "nbformat_minor": 2
}
