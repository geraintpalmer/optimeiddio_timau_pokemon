{
 "cells": [
  {
   "cell_type": "code",
   "execution_count": 1,
   "metadata": {},
   "outputs": [],
   "source": [
    "import requests\n",
    "from bs4 import BeautifulSoup\n",
    "import tqdm"
   ]
  },
  {
   "cell_type": "code",
   "execution_count": 2,
   "metadata": {},
   "outputs": [],
   "source": [
    "allowed_chars = 'abcdefghijklmnopqrstuvwxyzABCDEFGHIJKLMNOPQRSTUVWXYZ1234567890-.,?()! '"
   ]
  },
  {
   "cell_type": "code",
   "execution_count": 3,
   "metadata": {},
   "outputs": [],
   "source": [
    "prefix = 'https://www.serebii.net'\n",
    "page = requests.get(prefix + '/attackdex-swsh/')"
   ]
  },
  {
   "cell_type": "code",
   "execution_count": 4,
   "metadata": {},
   "outputs": [],
   "source": [
    "soup = BeautifulSoup(page.content)\n",
    "all_attack_links = [row['value'] for row in soup.findAll('option', value=True)]\n",
    "all_attack_links = sorted(list(set(all_attack_links)))"
   ]
  },
  {
   "cell_type": "code",
   "execution_count": 5,
   "metadata": {},
   "outputs": [],
   "source": [
    "class Attack:\n",
    "    def __init__(self, name, atk_type, atk_class, power, accuracy, pkmn):\n",
    "        self.name = name\n",
    "        self.atk_type = atk_type\n",
    "        self.atk_class = atk_class\n",
    "        self.power = power\n",
    "        self.accuracy = accuracy\n",
    "        self.pkmn = pkmn"
   ]
  },
  {
   "cell_type": "code",
   "execution_count": 6,
   "metadata": {},
   "outputs": [],
   "source": [
    "def get_attack_info(suffix):\n",
    "    page = requests.get(prefix + suffix)\n",
    "    soup = BeautifulSoup(page.content)\n",
    "    name = ''.join(x for x in soup.findAll('table', {'class': 'dextable'})[0].findAll('td')[3].text if x in allowed_chars).lstrip().rstrip()\n",
    "    atk_type = soup.findAll('table', {'class': 'dextable'})[0].findAll('td')[4].a['href'].replace('/attackdex-swsh/', '').replace('.shtml', '')\n",
    "    atk_class = soup.findAll('table', {'class': 'dextable'})[0].findAll('td')[5].a['href'].replace('/attackdex-swsh/', '').replace('.shtml', '')\n",
    "    power = int(soup.findAll('table', {'class': 'dextable'})[0].findAll('td')[10].text.replace('\\r', '').replace('\\t', '').replace('\\n', ''))\n",
    "    accuracy = int(soup.findAll('table', {'class': 'dextable'})[0].findAll('td')[11].text.replace('\\r', '').replace('\\t', '').replace('\\n', ''))\n",
    "    pkm = []\n",
    "    k = len(soup.findAll('table', {'class': 'dextable'}))\n",
    "    for i in range(2, k):\n",
    "        pkm += [row.find('img')['src'].replace('/pokedex-swsh/icon/', '').replace('.png', '') for row in soup.findAll('table', {'class': 'dextable'})[i].findAll('table', {'class': 'pkmn'})]\n",
    "    pkm = list(set(pkm))\n",
    "    return [Attack(name, atk_type, atk_class, power, accuracy, pkm)]"
   ]
  },
  {
   "cell_type": "code",
   "execution_count": 7,
   "metadata": {},
   "outputs": [
    {
     "data": {
      "application/vnd.jupyter.widget-view+json": {
       "model_id": "9fe96c873700415facb4902a75a5d85c",
       "version_major": 2,
       "version_minor": 0
      },
      "text/plain": [
       "HBox(children=(IntProgress(value=0, max=841), HTML(value='')))"
      ]
     },
     "metadata": {},
     "output_type": "display_data"
    },
    {
     "name": "stdout",
     "output_type": "stream",
     "text": [
      "\n"
     ]
    }
   ],
   "source": [
    "all_attacks = []\n",
    "for suffix in tqdm.tqdm_notebook(all_attack_links):\n",
    "    all_attacks += get_attack_info(suffix)"
   ]
  },
  {
   "cell_type": "code",
   "execution_count": 8,
   "metadata": {},
   "outputs": [],
   "source": [
    "import pandas as pd\n",
    "data = pd.DataFrame({\n",
    "    'Name': [a.name for a in all_attacks],\n",
    "    'Type': [a.atk_type.capitalize() for a in all_attacks],\n",
    "    'Class': [a.atk_class.capitalize() for a in all_attacks],\n",
    "    'Power': [a.power for a in all_attacks],\n",
    "    'Accuracy': [a.accuracy for a in all_attacks]\n",
    "})"
   ]
  },
  {
   "cell_type": "code",
   "execution_count": 9,
   "metadata": {},
   "outputs": [],
   "source": [
    "data.to_csv('attack_swsh_data.csv', index=False)"
   ]
  },
  {
   "cell_type": "code",
   "execution_count": 10,
   "metadata": {},
   "outputs": [],
   "source": [
    "pkmn_data = pd.read_csv('pokemon_swsh_data.csv')"
   ]
  },
  {
   "cell_type": "code",
   "execution_count": 11,
   "metadata": {},
   "outputs": [
    {
     "data": {
      "text/plain": [
       "nan"
      ]
     },
     "execution_count": 11,
     "metadata": {},
     "output_type": "execute_result"
    }
   ],
   "source": [
    "pkmn_data.loc[4]['Alt Number']"
   ]
  },
  {
   "cell_type": "code",
   "execution_count": 12,
   "metadata": {},
   "outputs": [
    {
     "data": {
      "text/plain": [
       "['407',\n",
       " '290',\n",
       " '114',\n",
       " '797',\n",
       " '592',\n",
       " '715',\n",
       " '187',\n",
       " '617',\n",
       " '267',\n",
       " '252',\n",
       " '291',\n",
       " '272',\n",
       " '547',\n",
       " '465',\n",
       " '743',\n",
       " '189',\n",
       " '636',\n",
       " '548',\n",
       " '593',\n",
       " '103-a',\n",
       " '402',\n",
       " '546',\n",
       " '045',\n",
       " '046',\n",
       " '168',\n",
       " '273',\n",
       " '271',\n",
       " '140',\n",
       " '781',\n",
       " '286',\n",
       " '182',\n",
       " '047',\n",
       " '706',\n",
       " '596',\n",
       " '167',\n",
       " '770',\n",
       " '315',\n",
       " '388',\n",
       " '042',\n",
       " '292',\n",
       " '704',\n",
       " '756',\n",
       " '191',\n",
       " '103',\n",
       " '714',\n",
       " '769',\n",
       " '141',\n",
       " '270',\n",
       " '549',\n",
       " '616',\n",
       " '331',\n",
       " '332',\n",
       " '637',\n",
       " '556',\n",
       " '169',\n",
       " '275',\n",
       " '406',\n",
       " '590',\n",
       " '595',\n",
       " '188',\n",
       " '254',\n",
       " '705',\n",
       " '274',\n",
       " '043',\n",
       " '389',\n",
       " '192',\n",
       " '742',\n",
       " '044',\n",
       " '755',\n",
       " '285',\n",
       " '591',\n",
       " '253',\n",
       " '041',\n",
       " '102']"
      ]
     },
     "execution_count": 12,
     "metadata": {},
     "output_type": "execute_result"
    }
   ],
   "source": [
    "all_attacks[1].pkmn"
   ]
  },
  {
   "cell_type": "code",
   "execution_count": 13,
   "metadata": {},
   "outputs": [],
   "source": [
    "def can_learn(pkm_num, attack_num):\n",
    "    test1 = pkmn_data.loc[pkm_num]['Number'] in all_attacks[attack_num].pkmn\n",
    "    test2 = pkmn_data.loc[pkm_num]['Alt Number'] in all_attacks[attack_num].pkmn\n",
    "    if test1 or test2:\n",
    "        return 1\n",
    "    return 0"
   ]
  },
  {
   "cell_type": "code",
   "execution_count": 14,
   "metadata": {},
   "outputs": [],
   "source": [
    "pkmn_nums = range(len(pkmn_data))\n",
    "attack_nums = range(len(data))"
   ]
  },
  {
   "cell_type": "code",
   "execution_count": 15,
   "metadata": {},
   "outputs": [
    {
     "data": {
      "application/vnd.jupyter.widget-view+json": {
       "model_id": "66e993ecda7e4053806c195359933833",
       "version_major": 2,
       "version_minor": 0
      },
      "text/plain": [
       "HBox(children=(IntProgress(value=0, max=739), HTML(value='')))"
      ]
     },
     "metadata": {},
     "output_type": "display_data"
    },
    {
     "name": "stdout",
     "output_type": "stream",
     "text": [
      "\n"
     ]
    }
   ],
   "source": [
    "learnset_matrix = []\n",
    "for p in tqdm.tqdm_notebook(pkmn_nums):\n",
    "    learnset_matrix.append([])\n",
    "    for a in attack_nums:\n",
    "        learnset_matrix[-1].append(can_learn(p, a))"
   ]
  },
  {
   "cell_type": "code",
   "execution_count": 16,
   "metadata": {},
   "outputs": [
    {
     "data": {
      "text/plain": [
       "739"
      ]
     },
     "execution_count": 16,
     "metadata": {},
     "output_type": "execute_result"
    }
   ],
   "source": [
    "len(learnset_matrix)"
   ]
  },
  {
   "cell_type": "code",
   "execution_count": 17,
   "metadata": {},
   "outputs": [
    {
     "data": {
      "text/plain": [
       "841"
      ]
     },
     "execution_count": 17,
     "metadata": {},
     "output_type": "execute_result"
    }
   ],
   "source": [
    "len(learnset_matrix[0])"
   ]
  },
  {
   "cell_type": "code",
   "execution_count": 18,
   "metadata": {},
   "outputs": [],
   "source": [
    "pd.DataFrame(learnset_matrix).to_csv('learnset.csv', index=False)"
   ]
  },
  {
   "cell_type": "code",
   "execution_count": null,
   "metadata": {},
   "outputs": [],
   "source": []
  }
 ],
 "metadata": {
  "kernelspec": {
   "display_name": "Python 3",
   "language": "python",
   "name": "python3"
  },
  "language_info": {
   "codemirror_mode": {
    "name": "ipython",
    "version": 3
   },
   "file_extension": ".py",
   "mimetype": "text/x-python",
   "name": "python",
   "nbconvert_exporter": "python",
   "pygments_lexer": "ipython3",
   "version": "3.7.3"
  }
 },
 "nbformat": 4,
 "nbformat_minor": 2
}
