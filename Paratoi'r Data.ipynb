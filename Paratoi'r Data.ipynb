{
 "cells": [
  {
   "cell_type": "code",
   "execution_count": 1,
   "metadata": {},
   "outputs": [],
   "source": [
    "import pandas as pd"
   ]
  },
  {
   "cell_type": "code",
   "execution_count": 2,
   "metadata": {},
   "outputs": [],
   "source": [
    "pdata = pd.read_csv('data/pokemon_swsh_data.csv')\n",
    "mdata = pd.read_csv('data/attack_swsh_data.csv')\n",
    "learnset = pd.read_csv('data/learnset.csv')"
   ]
  },
  {
   "cell_type": "code",
   "execution_count": 3,
   "metadata": {},
   "outputs": [],
   "source": [
    "banned_moves = ['Explosion', 'Last Resort', 'Self-Destruct', 'Feint', 'False Swipe', 'Fake Out', 'Final Gambit', 'First Impression', 'Max Airstream', 'Max Darkness', 'Max Flutterby', 'Max Geyser', 'Max Hailstorm', 'Max Knuckle', 'Max Lightning', 'Max Mindstorm', 'Max Ooze', 'Max Overgrowth', 'Max Phantasm', 'Max Quake', 'Max Rockfall', 'Max Starfall', 'Max Steelspike', 'Max Strike', 'Max Wyrmwind', 'Misty Explosion', 'Future Sight']\n",
    "banned_moves_id = []\n",
    "for move in banned_moves:\n",
    "    banned_moves_id += list(mdata[mdata['Name'] == move].index)\n",
    "mdata = mdata.drop(banned_moves_id)"
   ]
  },
  {
   "cell_type": "code",
   "execution_count": 4,
   "metadata": {},
   "outputs": [],
   "source": [
    "pdata_base = pdata[(pdata['Legendary']==0)&(pdata['Mythical']==0)&(pdata['Has Temporary Form']==0)&(pdata['Pseudolegendary']==0)&(pdata['Fully Evolved']==1)]\n",
    "pdata_legend = pdata[(pdata['Has Temporary Form']==0)&(pdata['Fully Evolved']==1)]\n",
    "pdata_evo = pdata[(pdata['Legendary']==0)&(pdata['Mythical']==0)&(pdata['Has Temporary Form']==0)&(pdata['Pseudolegendary']==0)]"
   ]
  },
  {
   "cell_type": "code",
   "execution_count": 5,
   "metadata": {},
   "outputs": [],
   "source": [
    "not_status = mdata[mdata['Class']!='Other'].index"
   ]
  },
  {
   "cell_type": "code",
   "execution_count": 6,
   "metadata": {},
   "outputs": [],
   "source": [
    "learnset = learnset[[str(i) for i in not_status]]"
   ]
  },
  {
   "cell_type": "code",
   "execution_count": 7,
   "metadata": {},
   "outputs": [],
   "source": [
    "learnset_base = learnset.loc[pdata_base.index]\n",
    "learnset_base = learnset_base.loc[learnset_base.T.sum() >= 4]"
   ]
  },
  {
   "cell_type": "code",
   "execution_count": 8,
   "metadata": {},
   "outputs": [],
   "source": [
    "learnset_legend = learnset.loc[pdata_legend.index]\n",
    "learnset_legend = learnset_legend.loc[learnset_legend.T.sum() >= 4]"
   ]
  },
  {
   "cell_type": "code",
   "execution_count": 9,
   "metadata": {},
   "outputs": [],
   "source": [
    "learnset_evo = learnset.loc[pdata_evo.index]\n",
    "learnset_evo = learnset_evo.loc[learnset_evo.T.sum() >= 4]"
   ]
  },
  {
   "cell_type": "code",
   "execution_count": 10,
   "metadata": {},
   "outputs": [],
   "source": [
    "pdata_base = pdata_base.loc[learnset_base.index]\n",
    "pdata_legend = pdata_legend.loc[learnset_legend.index]\n",
    "pdata_evo = pdata_evo.loc[learnset_evo.index]"
   ]
  },
  {
   "cell_type": "code",
   "execution_count": 11,
   "metadata": {},
   "outputs": [],
   "source": [
    "mdata.to_csv('data/allowed_moves.csv')\n",
    "pdata_base.to_csv('data/pdata_base.csv')\n",
    "pdata_legend.to_csv('data/pdata_legend.csv')\n",
    "pdata_evo.to_csv('data/pdata_evo.csv')\n",
    "learnset_base.to_csv('data/learnset_base.csv')\n",
    "learnset_legend.to_csv('data/learnset_legend.csv')\n",
    "learnset_evo.to_csv('data/learnset_evo.csv')"
   ]
  },
  {
   "cell_type": "code",
   "execution_count": null,
   "metadata": {},
   "outputs": [],
   "source": []
  }
 ],
 "metadata": {
  "kernelspec": {
   "display_name": "Python 3",
   "language": "python",
   "name": "python3"
  },
  "language_info": {
   "codemirror_mode": {
    "name": "ipython",
    "version": 3
   },
   "file_extension": ".py",
   "mimetype": "text/x-python",
   "name": "python",
   "nbconvert_exporter": "python",
   "pygments_lexer": "ipython3",
   "version": "3.7.3"
  }
 },
 "nbformat": 4,
 "nbformat_minor": 2
}
